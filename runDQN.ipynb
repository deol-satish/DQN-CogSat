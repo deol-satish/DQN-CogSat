{
 "cells": [
  {
   "cell_type": "markdown",
   "id": "27ad70fa",
   "metadata": {},
   "source": [
    "### DQN"
   ]
  },
  {
   "cell_type": "code",
   "execution_count": null,
   "id": "5ab8c27d",
   "metadata": {},
   "outputs": [],
   "source": [
    "import gymnasium\n",
    "from stable_baselines3 import DQN\n",
    "from stable_baselines3.common.env_util import DummyVecEnv\n",
    "from stable_baselines3.common.callbacks import CheckpointCallback\n",
    "from stable_baselines3.common.env_checker import check_env\n",
    "from stable_baselines3.common.evaluation import evaluate_policy\n",
    "from utils.env import DQNCogSatEnv\n"
   ]
  },
  {
   "cell_type": "code",
   "execution_count": null,
   "id": "b9b74388",
   "metadata": {},
   "outputs": [],
   "source": [
    "from utils.env import env_name\n",
    "print(f\"Using environment: {env_name}\")"
   ]
  },
  {
   "cell_type": "code",
   "execution_count": null,
   "id": "1644e8c8",
   "metadata": {},
   "outputs": [],
   "source": [
    "\n",
    "import os\n",
    "os.environ[\"KMP_DUPLICATE_LIB_OK\"] = \"TRUE\"\n",
    "\n",
    "# set the seed\n",
    "seed = 42\n",
    "\n",
    "gymnasium.register(\n",
    "    id='DQNCogSatEnv-v1',  # Use the same ID here as you used in the script\n",
    "    entry_point='env:DQNCogSatEnv',\n",
    ")\n",
    "\n",
    "# Initialize the environment\n",
    "env_id = \"DQNCogSatEnv-v1\"\n",
    "env = DQNCogSatEnv()"
   ]
  },
  {
   "cell_type": "code",
   "execution_count": null,
   "id": "cf7598fc",
   "metadata": {},
   "outputs": [],
   "source": [
    "env.reset(seed=seed)  # Reset the environment with the seed"
   ]
  },
  {
   "cell_type": "code",
   "execution_count": null,
   "id": "7c2b0884",
   "metadata": {},
   "outputs": [],
   "source": [
    "env.intial_obs"
   ]
  },
  {
   "cell_type": "code",
   "execution_count": null,
   "id": "65a7e381",
   "metadata": {},
   "outputs": [],
   "source": [
    "dummy_env = DummyVecEnv([lambda: env])  # Wrap the environment with DummyVecEnv"
   ]
  },
  {
   "cell_type": "code",
   "execution_count": null,
   "id": "ac13e394",
   "metadata": {},
   "outputs": [],
   "source": [
    "\n",
    "gymnasium.register(\n",
    "    id='DQNCogSatEnv',\n",
    "    entry_point='env:DQNCogSatEnv',\n",
    ")\n",
    "\n",
    "# Initialize the environment\n",
    "env_id = \"DQNCogSatEnv\"\n",
    "env = DQNCogSatEnv()\n",
    "\n",
    "\n",
    "# Instantiate the model\n",
    "model = DQN(policy=\"MultiInputPolicy\",env=env,learning_rate=1e-4,\n",
    "            buffer_size=50000,learning_starts=10,batch_size=16,\n",
    "            tau=1.0,gamma=0.99,\n",
    "            train_freq=4,\n",
    "            target_update_interval=10,\n",
    "            verbose=1)\n",
    "\n",
    "# Train the agent\n",
    "model.learn()\n",
    "# measure perofmance of training\n",
    "# Save the model\n",
    "model.save(\"dqn_cogsat\")\n",
    "env.close()\n",
    "\n",
    "\n"
   ]
  },
  {
   "cell_type": "code",
   "execution_count": null,
   "id": "77d01854",
   "metadata": {},
   "outputs": [],
   "source": []
  },
  {
   "cell_type": "code",
   "execution_count": null,
   "id": "9edb1e59",
   "metadata": {},
   "outputs": [],
   "source": [
    "# Run it in sepratae file\n",
    "# Evaluate the agent\n",
    "mean_reward, std_reward = evaluate_policy(model, env, n_eval_episodes=10)\n",
    "print(f\"Mean reward: {mean_reward} +/- {std_reward}\")"
   ]
  }
 ],
 "metadata": {
  "kernelspec": {
   "display_name": "cogsat",
   "language": "python",
   "name": "python3"
  },
  "language_info": {
   "codemirror_mode": {
    "name": "ipython",
    "version": 3
   },
   "file_extension": ".py",
   "mimetype": "text/x-python",
   "name": "python",
   "nbconvert_exporter": "python",
   "pygments_lexer": "ipython3",
   "version": "3.12.9"
  }
 },
 "nbformat": 4,
 "nbformat_minor": 5
}
