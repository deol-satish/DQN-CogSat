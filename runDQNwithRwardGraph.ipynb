{
 "cells": [
  {
   "cell_type": "markdown",
   "id": "27ad70fa",
   "metadata": {},
   "source": [
    "### DQN"
   ]
  },
  {
   "cell_type": "code",
   "execution_count": null,
   "id": "5ab8c27d",
   "metadata": {},
   "outputs": [],
   "source": [
    "import gymnasium\n",
    "from stable_baselines3 import DQN\n",
    "from stable_baselines3.common.env_util import DummyVecEnv\n",
    "from stable_baselines3.common.callbacks import CheckpointCallback\n",
    "from stable_baselines3.common.env_checker import check_env\n",
    "from stable_baselines3.common.evaluation import evaluate_policy\n",
    "from utils.env import CogSatEnv\n"
   ]
  },
  {
   "cell_type": "code",
   "execution_count": null,
   "id": "b9b74388",
   "metadata": {},
   "outputs": [],
   "source": [
    "from utils.env import env_name\n",
    "print(f\"Using environment: {env_name}\")"
   ]
  },
  {
   "cell_type": "code",
   "execution_count": null,
   "id": "1644e8c8",
   "metadata": {},
   "outputs": [],
   "source": [
    "\n",
    "import os\n",
    "os.environ[\"KMP_DUPLICATE_LIB_OK\"] = \"TRUE\"\n",
    "\n",
    "# set the seed\n",
    "seed = 42\n",
    "\n",
    "gymnasium.register(\n",
    "    id='CogSatEnv-v1',  # Use the same ID here as you used in the script\n",
    "    entry_point='env:CogSatEnv',\n",
    ")\n",
    "\n",
    "# Initialize the environment\n",
    "env_id = \"CogSatEnv-v1\"\n",
    "env = CogSatEnv()"
   ]
  },
  {
   "cell_type": "code",
   "execution_count": null,
   "id": "ec675143",
   "metadata": {},
   "outputs": [],
   "source": [
    "# %% utils/callbacks.py\n",
    "import numpy as np\n",
    "from stable_baselines3.common.callbacks import BaseCallback\n",
    "\n",
    "class RewardLoggerCallback(BaseCallback):\n",
    "    def __init__(self, epoch_length, verbose=0):\n",
    "        super().__init__(verbose)\n",
    "        self.epoch_length = epoch_length\n",
    "        self.epoch_rewards = []\n",
    "        self.epoch_mean_rewards = []\n",
    "        self.epoch_median_rewards = []\n",
    "        self.epoch_all_rewards = []\n",
    "        self.current_rewards = []\n",
    "\n",
    "    def _on_step(self) -> bool:\n",
    "        if self.locals.get(\"rewards\") is not None:\n",
    "            self.current_rewards.append(self.locals[\"rewards\"][0])\n",
    "        \n",
    "        # Every epoch_length steps, calculate mean and reset\n",
    "        if self.num_timesteps % self.epoch_length == 0:\n",
    "            if self.current_rewards:\n",
    "                mean_reward = np.mean(self.current_rewards)\n",
    "                median_reward = np.median(self.current_rewards)\n",
    "                self.epoch_rewards.append(mean_reward)\n",
    "                self.epoch_mean_rewards.append(mean_reward)\n",
    "                self.epoch_median_rewards.append(median_reward)\n",
    "                self.epoch_all_rewards.append(self.current_rewards.copy())\n",
    "                self.current_rewards = []\n",
    "\n",
    "        return True\n",
    "\n",
    "    def _on_training_end(self):\n",
    "        # Save rewards to file (optional)\n",
    "        np.save(\"epoch_rewards.npy\", self.epoch_rewards)\n",
    "        np.save(\"epoch_mean_rewards.npy\", self.epoch_mean_rewards)\n",
    "        np.save(\"epoch_median_rewards.npy\", self.epoch_median_rewards)\n",
    "        np.save(\"epoch_all_rewards.npy\", self.epoch_all_rewards)\n"
   ]
  },
  {
   "cell_type": "code",
   "execution_count": null,
   "id": "cf7598fc",
   "metadata": {},
   "outputs": [],
   "source": [
    "env.reset(seed=seed)  # Reset the environment with the seed"
   ]
  },
  {
   "cell_type": "code",
   "execution_count": null,
   "id": "7c2b0884",
   "metadata": {},
   "outputs": [],
   "source": [
    "env.intial_obs"
   ]
  },
  {
   "cell_type": "code",
   "execution_count": null,
   "id": "65a7e381",
   "metadata": {},
   "outputs": [],
   "source": [
    "dummy_env = DummyVecEnv([lambda: env])  # Wrap the environment with DummyVecEnv"
   ]
  },
  {
   "cell_type": "code",
   "execution_count": null,
   "id": "77d01854",
   "metadata": {},
   "outputs": [],
   "source": [
    "\n",
    "epoch_length = 62 ## got through experiment\n",
    "epoch_numbers = 500\n",
    "\n",
    "\n",
    "# epoch_length = 5 ## got through experiment\n",
    "# epoch_numbers = 5\n",
    "\n",
    "\n",
    "total_steps = epoch_length * epoch_numbers\n",
    "\n",
    "# Optional: Check the environment\n",
    "check_env(env, warn=True)\n",
    "\n",
    "# Instantiate the model\n",
    "model = DQN(\n",
    "    policy=\"MultiInputPolicy\",\n",
    "    env=env,\n",
    "    learning_rate=1e-4,\n",
    "    buffer_size=50000,\n",
    "    learning_starts=10,\n",
    "    batch_size=16,\n",
    "    tau=1.0,\n",
    "    gamma=0.99,\n",
    "    train_freq=4,\n",
    "    target_update_interval=10,\n",
    "    verbose=1\n",
    ")\n",
    "\n",
    "\n",
    "\n",
    "# Instantiate callback\n",
    "reward_logger = RewardLoggerCallback(epoch_length=epoch_length)\n",
    "\n",
    "# Train the agent\n",
    "model.learn(total_timesteps=total_steps, callback=reward_logger)\n",
    "\n",
    "# Save rewards for plotting\n",
    "rewards = reward_logger.epoch_rewards\n",
    "np.save(\"epoch_rewards.npy\", rewards)\n",
    "\n",
    "\n",
    "# measure perofmance of training\n",
    "# Save the model\n",
    "model.save(\"dqn_cogsat\")\n",
    "# env.close()\n",
    "\n",
    "\n"
   ]
  },
  {
   "cell_type": "code",
   "execution_count": null,
   "id": "40265ed7",
   "metadata": {},
   "outputs": [],
   "source": [
    "# %% Plotting\n",
    "import matplotlib.pyplot as plt\n",
    "import numpy as np\n",
    "\n",
    "rewards = np.load(\"epoch_rewards.npy\")\n",
    "\n",
    "plt.figure(figsize=(10, 6))\n",
    "plt.plot(rewards, label='Mean Reward per Epoch')\n",
    "plt.xlabel('Epoch')\n",
    "plt.ylabel('Mean Reward')\n",
    "plt.title('DQN Training Performance on CogSatEnv')\n",
    "plt.grid(True)\n",
    "plt.legend()\n",
    "plt.tight_layout()\n",
    "plt.show()\n"
   ]
  },
  {
   "cell_type": "code",
   "execution_count": null,
   "id": "12c739a9",
   "metadata": {},
   "outputs": [],
   "source": [
    "# %% Plotting\n",
    "import matplotlib.pyplot as plt\n",
    "import numpy as np\n",
    "\n",
    "rewards = np.load(\"epoch_median_rewards.npy\")\n",
    "\n",
    "plt.figure(figsize=(10, 6))\n",
    "plt.plot(rewards, label='Median Reward per Epoch')\n",
    "plt.xlabel('Epoch')\n",
    "plt.ylabel('Median Reward')\n",
    "plt.title('DQN Training Performance on CogSatEnv')\n",
    "plt.grid(True)\n",
    "plt.legend()\n",
    "plt.tight_layout()\n",
    "plt.show()\n"
   ]
  },
  {
   "cell_type": "code",
   "execution_count": null,
   "id": "9edb1e59",
   "metadata": {},
   "outputs": [],
   "source": [
    "# Run it in sepratae file\n",
    "# Evaluate the agent\n",
    "mean_reward, std_reward = evaluate_policy(model, env, n_eval_episodes=10)\n",
    "print(f\"Mean reward: {mean_reward} +/- {std_reward}\")"
   ]
  },
  {
   "cell_type": "code",
   "execution_count": null,
   "id": "24929296",
   "metadata": {},
   "outputs": [],
   "source": [
    "env.close()"
   ]
  }
 ],
 "metadata": {
  "kernelspec": {
   "display_name": "cogsat",
   "language": "python",
   "name": "python3"
  },
  "language_info": {
   "codemirror_mode": {
    "name": "ipython",
    "version": 3
   },
   "file_extension": ".py",
   "mimetype": "text/x-python",
   "name": "python",
   "nbconvert_exporter": "python",
   "pygments_lexer": "ipython3",
   "version": "3.12.9"
  }
 },
 "nbformat": 4,
 "nbformat_minor": 5
}
