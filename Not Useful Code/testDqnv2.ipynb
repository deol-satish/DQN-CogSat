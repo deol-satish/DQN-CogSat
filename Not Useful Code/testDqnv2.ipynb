{
 "cells": [
  {
   "cell_type": "code",
   "execution_count": null,
   "id": "fdd95659",
   "metadata": {},
   "outputs": [
    {
     "name": "stdout",
     "output_type": "stream",
     "text": [
      "\n",
      "=== Training on CartPole-v1 ===\n",
      "\n",
      "=== Training on MountainCar-v0 ===\n"
     ]
    }
   ],
   "source": [
    "import gymnasium as gym\n",
    "import numpy as np\n",
    "import matplotlib.pyplot as plt\n",
    "from stable_baselines3 import DQN\n",
    "from stable_baselines3.common.evaluation import evaluate_policy\n",
    "from stable_baselines3.common.callbacks import BaseCallback\n",
    "\n",
    "# %% utils/callbacks.py\n",
    "import numpy as np\n",
    "from stable_baselines3.common.callbacks import BaseCallback\n",
    "\n",
    "class RewardLoggerCallback(BaseCallback):\n",
    "    def __init__(self, epoch_length, verbose=0):\n",
    "        super().__init__(verbose)\n",
    "        self.epoch_length = epoch_length\n",
    "        self.epoch_rewards = []\n",
    "        self.epoch_mean_rewards = []\n",
    "        self.epoch_median_rewards = []\n",
    "        self.epoch_all_rewards = []\n",
    "        self.current_rewards = []\n",
    "\n",
    "    def _on_step(self) -> bool:\n",
    "        if self.locals.get(\"rewards\") is not None:\n",
    "            self.current_rewards.append(self.locals[\"rewards\"][0])\n",
    "        \n",
    "        # Every epoch_length steps, calculate mean and reset\n",
    "        if self.num_timesteps % self.epoch_length == 0:\n",
    "            if self.current_rewards:\n",
    "                mean_reward = np.mean(self.current_rewards)\n",
    "                median_reward = np.median(self.current_rewards)\n",
    "                self.epoch_rewards.append(mean_reward)\n",
    "                self.epoch_mean_rewards.append(mean_reward)\n",
    "                self.epoch_median_rewards.append(median_reward)\n",
    "                self.epoch_all_rewards.append(self.current_rewards.copy())\n",
    "                self.current_rewards = []\n",
    "\n",
    "        return True\n",
    "\n",
    "    def _on_training_end(self):\n",
    "        # Save rewards to file (optional)\n",
    "        np.save(\"epoch_rewards.npy\", self.epoch_rewards)\n",
    "        np.save(\"epoch_mean_rewards.npy\", self.epoch_mean_rewards)\n",
    "        np.save(\"epoch_median_rewards.npy\", self.epoch_median_rewards)\n",
    "        np.save(\"epoch_all_rewards.npy\", self.epoch_all_rewards)\n",
    "\n",
    "\n",
    "# List of environments\n",
    "env_ids = ['CartPole-v1', 'MountainCar-v0']\n",
    "timesteps = 50000\n",
    "eval_freq = 5000\n",
    "n_eval_episodes = 5\n",
    "\n",
    "# Store results\n",
    "all_results = {}\n",
    "\n",
    "for env_id in env_ids:\n",
    "    print(f\"\\n=== Training on {env_id} ===\")\n",
    "    train_env = gym.make(env_id)\n",
    "    eval_env = gym.make(env_id)\n",
    "\n",
    "    model = DQN(\"MlpPolicy\", train_env, verbose=0, learning_rate=1e-3)\n",
    "    \n",
    "    reward_logger = RewardLoggerCallback(epoch_length=timesteps)\n",
    "    \n",
    "    model.learn(total_timesteps=timesteps, callback=reward_logger)\n",
    "    \n",
    "    all_results[env_id] = reward_logger.epoch_rewards\n",
    "\n",
    "    train_env.close()\n",
    "    eval_env.close()\n"
   ]
  },
  {
   "cell_type": "code",
   "execution_count": 2,
   "id": "f3a0bbc3",
   "metadata": {},
   "outputs": [
    {
     "data": {
      "text/plain": [
       "{'CartPole-v1': [9.0, 9.0, 10.0, 10.0, 12.0, 26.0, 358.0, 187.0, 240.0, 207.0],\n",
       " 'MountainCar-v0': [-200.0,\n",
       "  -200.0,\n",
       "  -200.0,\n",
       "  -200.0,\n",
       "  -200.0,\n",
       "  -200.0,\n",
       "  -200.0,\n",
       "  -200.0,\n",
       "  -200.0,\n",
       "  -200.0]}"
      ]
     },
     "execution_count": 2,
     "metadata": {},
     "output_type": "execute_result"
    }
   ],
   "source": [
    "all_results"
   ]
  }
 ],
 "metadata": {
  "kernelspec": {
   "display_name": "cogsat",
   "language": "python",
   "name": "python3"
  },
  "language_info": {
   "codemirror_mode": {
    "name": "ipython",
    "version": 3
   },
   "file_extension": ".py",
   "mimetype": "text/x-python",
   "name": "python",
   "nbconvert_exporter": "python",
   "pygments_lexer": "ipython3",
   "version": "3.12.9"
  }
 },
 "nbformat": 4,
 "nbformat_minor": 5
}
