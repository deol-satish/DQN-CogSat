{
 "cells": [
  {
   "cell_type": "code",
   "execution_count": 1,
   "id": "fdd95659",
   "metadata": {},
   "outputs": [
    {
     "name": "stdout",
     "output_type": "stream",
     "text": [
      "\n",
      "=== Training on CartPole-v1 ===\n",
      "\n",
      "=== Training on MountainCar-v0 ===\n"
     ]
    }
   ],
   "source": [
    "import gymnasium as gym\n",
    "import numpy as np\n",
    "import matplotlib.pyplot as plt\n",
    "from stable_baselines3 import DQN\n",
    "from stable_baselines3.common.evaluation import evaluate_policy\n",
    "from stable_baselines3.common.callbacks import BaseCallback\n",
    "\n",
    "# Custom callback to log rewards\n",
    "class RewardLoggerCallback(BaseCallback):\n",
    "    def __init__(self, eval_env, eval_freq, n_eval_episodes, verbose=0):\n",
    "        super().__init__(verbose)\n",
    "        self.eval_env = eval_env\n",
    "        self.eval_freq = eval_freq\n",
    "        self.n_eval_episodes = n_eval_episodes\n",
    "        self.median_rewards = []\n",
    "\n",
    "    def _on_step(self) -> bool:\n",
    "        if self.n_calls % self.eval_freq == 0:\n",
    "            rewards = []\n",
    "            for _ in range(self.n_eval_episodes):\n",
    "                obs, _ = self.eval_env.reset()\n",
    "                done = False\n",
    "                total_reward = 0.0\n",
    "                while not done:\n",
    "                    action, _ = self.model.predict(obs, deterministic=True)\n",
    "                    obs, reward, terminated, truncated, _ = self.eval_env.step(action)\n",
    "                    done = terminated or truncated\n",
    "                    total_reward += reward\n",
    "                rewards.append(total_reward)\n",
    "            median_reward = np.median(rewards)\n",
    "            self.median_rewards.append(median_reward)\n",
    "        return True\n",
    "\n",
    "# List of environments\n",
    "env_ids = ['CartPole-v1', 'MountainCar-v0']\n",
    "timesteps = 50000\n",
    "eval_freq = 5000\n",
    "n_eval_episodes = 5\n",
    "\n",
    "# Store results\n",
    "all_results = {}\n",
    "\n",
    "for env_id in env_ids:\n",
    "    print(f\"\\n=== Training on {env_id} ===\")\n",
    "    train_env = gym.make(env_id)\n",
    "    eval_env = gym.make(env_id)\n",
    "\n",
    "    model = DQN(\"MlpPolicy\", train_env, verbose=0, learning_rate=1e-3)\n",
    "    \n",
    "    callback = RewardLoggerCallback(eval_env, eval_freq, n_eval_episodes)\n",
    "    \n",
    "    model.learn(total_timesteps=timesteps, callback=callback)\n",
    "    \n",
    "    all_results[env_id] = callback.median_rewards\n",
    "\n",
    "    train_env.close()\n",
    "    eval_env.close()\n"
   ]
  },
  {
   "cell_type": "code",
   "execution_count": 2,
   "id": "f3a0bbc3",
   "metadata": {},
   "outputs": [
    {
     "data": {
      "text/plain": [
       "{'CartPole-v1': [9.0, 9.0, 10.0, 10.0, 12.0, 26.0, 358.0, 187.0, 240.0, 207.0],\n",
       " 'MountainCar-v0': [-200.0,\n",
       "  -200.0,\n",
       "  -200.0,\n",
       "  -200.0,\n",
       "  -200.0,\n",
       "  -200.0,\n",
       "  -200.0,\n",
       "  -200.0,\n",
       "  -200.0,\n",
       "  -200.0]}"
      ]
     },
     "execution_count": 2,
     "metadata": {},
     "output_type": "execute_result"
    }
   ],
   "source": [
    "all_results"
   ]
  }
 ],
 "metadata": {
  "kernelspec": {
   "display_name": "cogsat",
   "language": "python",
   "name": "python3"
  },
  "language_info": {
   "codemirror_mode": {
    "name": "ipython",
    "version": 3
   },
   "file_extension": ".py",
   "mimetype": "text/x-python",
   "name": "python",
   "nbconvert_exporter": "python",
   "pygments_lexer": "ipython3",
   "version": "3.12.9"
  }
 },
 "nbformat": 4,
 "nbformat_minor": 5
}
